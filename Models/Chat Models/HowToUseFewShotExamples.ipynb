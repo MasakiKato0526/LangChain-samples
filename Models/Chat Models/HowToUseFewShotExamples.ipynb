{
 "cells": [
  {
   "attachments": {},
   "cell_type": "markdown",
   "metadata": {},
   "source": [
    "# How to use few shot examples\n",
    "この Notebook は、LangChain の Models/Chat Models/How to use few shot examples で紹介されているコードを以下の条件で書き換えたものになります。\n",
    "- Azure OpenAI Service を使用\n",
    "- モデルは\n",
    "    - gpt-4 (デプロイ名：gpt-4)\n",
    "\n",
    "以下のリンクは、オリジナルのサイトになります。こちらも参照するようにしてください。   \n",
    "https://python.langchain.com/en/latest/modules/models/chat/examples/few_shot_examples.html"
   ]
  },
  {
   "attachments": {},
   "cell_type": "markdown",
   "metadata": {},
   "source": [
    "### Environment Setup\n",
    "必要なパラメータの値を、.env ファイルより取得します。あらかじめ.env ファイルに必要な値を設定しておいてください。"
   ]
  },
  {
   "cell_type": "code",
   "execution_count": null,
   "metadata": {},
   "outputs": [],
   "source": [
    "import os\n",
    "from dotenv import load_dotenv\n",
    "import openai\n",
    "\n",
    "# .env ファイルから環境変数を読み込む\n",
    "load_dotenv(\"../../.env\")\n",
    "\n",
    "# モデルのデプロイ名をパラメータに設定\n",
    "AZURE_OPENAI_GPT_DEPLOYMENT = os.environ.get(\"AZURE_OPENAI_GPT_DEPLOYMENT\")    # text-davinchi-003 のデプロイ名\n",
    "AZURE_OPENAI_GPT4_DEPLOYMENT = os.environ.get(\"AZURE_OPENAI_GPT4_DEPLOYMENT\")  # gpt-4 のデプロイ名\n",
    "\n",
    "# OpenAI API が使用するパラメータの設定\n",
    "openai.api_type = \"azure\"\n",
    "openai.api_base = os.environ.get(\"OPENAI_API_BASE\")                            # Azure OpenAI API エンドポイント\n",
    "openai.api_version = os.environ.get(\"OPENAI_API_VERSION\")                      # Azure OpenAI API バージョン\n",
    "openai.api_key = os.environ.get(\"OPENAI_API_KEY\")                              # Azure OpenAI API キー"
   ]
  },
  {
   "attachments": {},
   "cell_type": "markdown",
   "metadata": {},
   "source": [
    "### Alternating Human/AI messages\n",
    "Few-shot Prompting を行う最初の方法は、人と AI のメッセージを交互に交換することです。以下にその例を示します。"
   ]
  },
  {
   "cell_type": "code",
   "execution_count": null,
   "metadata": {},
   "outputs": [],
   "source": [
    "from langchain.chat_models import AzureChatOpenAI\n",
    "from langchain.chains import LLMChain\n",
    "from langchain.prompts.chat import (\n",
    "    ChatPromptTemplate,\n",
    "    SystemMessagePromptTemplate,\n",
    "    AIMessagePromptTemplate,\n",
    "    HumanMessagePromptTemplate\n",
    ")"
   ]
  },
  {
   "cell_type": "code",
   "execution_count": null,
   "metadata": {},
   "outputs": [],
   "source": [
    "chat = AzureChatOpenAI(deployment_name=AZURE_OPENAI_GPT4_DEPLOYMENT, temperature=0, openai_api_key=openai.api_key)"
   ]
  },
  {
   "cell_type": "code",
   "execution_count": null,
   "metadata": {},
   "outputs": [],
   "source": [
    "template = \"You are a helpful that translates English to Japanese.\"\n",
    "\n",
    "system_message_prompt = SystemMessagePromptTemplate.from_template(template)\n",
    "example_human = HumanMessagePromptTemplate.from_template(\"Hi\")\n",
    "example_ai = AIMessagePromptTemplate.from_template(\"こんにちは\")\n",
    "human_template = \"{text}\"\n",
    "human_message_prompt = HumanMessagePromptTemplate.from_template(human_template)"
   ]
  },
  {
   "cell_type": "code",
   "execution_count": null,
   "metadata": {},
   "outputs": [],
   "source": [
    "chat_prompt = ChatPromptTemplate.from_messages([system_message_prompt, example_human, example_ai, human_message_prompt])\n",
    "chain = LLMChain(llm=chat, prompt=chat_prompt)\n",
    "\n",
    "# フォーマットされたメッセージから Chat Completion を取得\n",
    "chain.run(\"I love programming.\")"
   ]
  },
  {
   "attachments": {},
   "cell_type": "markdown",
   "metadata": {},
   "source": [
    "### System Messages\n",
    "OpenAI は、Few-shot prompting において、システムメッセージと組み合わせて使用できるオプションパラメータ `name` を提供しています。以下にその使用例を示します。"
   ]
  },
  {
   "cell_type": "code",
   "execution_count": null,
   "metadata": {},
   "outputs": [],
   "source": [
    "template = \"You are a helpful that translates English to pirate.\"\n",
    "\n",
    "system_message_prompt = SystemMessagePromptTemplate.from_template(template)\n",
    "example_human = SystemMessagePromptTemplate.from_template(\"Hi\", additional_kwargs={\"name\": \"example_user\"})\n",
    "example_ai = SystemMessagePromptTemplate.from_template(\"Argh me mateys\", additional_kwargs={\"name\": \"example_assistant\"})\n",
    "human_template = \"{text}\"\n",
    "human_message_prompt = HumanMessagePromptTemplate.from_template(human_template)"
   ]
  },
  {
   "cell_type": "code",
   "execution_count": null,
   "metadata": {},
   "outputs": [],
   "source": [
    "chat_prompt = ChatPromptTemplate.from_messages([system_message_prompt, example_human, example_ai, human_message_prompt])\n",
    "chain = LLMChain(llm=chat, prompt=chat_prompt)\n",
    "\n",
    "chain.run(\"I love programming.\")"
   ]
  }
 ],
 "metadata": {
  "kernelspec": {
   "display_name": "py310openai",
   "language": "python",
   "name": "python3"
  },
  "language_info": {
   "codemirror_mode": {
    "name": "ipython",
    "version": 3
   },
   "file_extension": ".py",
   "mimetype": "text/x-python",
   "name": "python",
   "nbconvert_exporter": "python",
   "pygments_lexer": "ipython3",
   "version": "3.10.9"
  },
  "orig_nbformat": 4
 },
 "nbformat": 4,
 "nbformat_minor": 2
}
