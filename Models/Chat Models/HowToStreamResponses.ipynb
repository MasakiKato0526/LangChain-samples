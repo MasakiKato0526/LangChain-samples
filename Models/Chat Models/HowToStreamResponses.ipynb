{
 "cells": [
  {
   "attachments": {},
   "cell_type": "markdown",
   "metadata": {},
   "source": [
    "# How to stream response\n",
    "この Notebook は、LangChain の Models/Chat Models/How to stream responses で紹介されているコードを以下の条件で書き換えたものになります。\n",
    "- Azure OpenAI Service を使用\n",
    "- モデルは\n",
    "    - gpt-4 (デプロイ名：gpt-4)\n",
    "\n",
    "以下のリンクは、オリジナルのサイトになります。こちらも参照するようにしてください。  \n",
    "https://python.langchain.com/en/latest/modules/models/chat/examples/streaming.html "
   ]
  },
  {
   "attachments": {},
   "cell_type": "markdown",
   "metadata": {},
   "source": [
    "### Environment Setup\n",
    "必要なパラメータの値を、.env ファイルより取得します。あらかじめ.env ファイルに必要な値を設定しておいてください。"
   ]
  },
  {
   "cell_type": "code",
   "execution_count": null,
   "metadata": {},
   "outputs": [],
   "source": [
    "import os\n",
    "from dotenv import load_dotenv\n",
    "import openai\n",
    "\n",
    "# .env ファイルから環境変数を読み込む\n",
    "load_dotenv(\"../../.env\")\n",
    "\n",
    "# モデルのデプロイ名をパラメータに設定\n",
    "AZURE_OPENAI_GPT_DEPLOYMENT = os.environ.get(\"AZURE_OPENAI_GPT_DEPLOYMENT\")    # text-davinchi-003 のデプロイ名\n",
    "AZURE_OPENAI_GPT4_DEPLOYMENT = os.environ.get(\"AZURE_OPENAI_GPT4_DEPLOYMENT\")  # gpt-4 のデプロイ名\n",
    "\n",
    "# OpenAI API が使用するパラメータの設定\n",
    "openai.api_type = \"azure\"\n",
    "openai.api_base = os.environ.get(\"OPENAI_API_BASE\")                            # Azure OpenAI API エンドポイント\n",
    "openai.api_version = os.environ.get(\"OPENAI_API_VERSION\")                      # Azure OpenAI API バージョン\n",
    "openai.api_key = os.environ.get(\"OPENAI_API_KEY\")                              # Azure OpenAI API キー"
   ]
  },
  {
   "attachments": {},
   "cell_type": "markdown",
   "metadata": {},
   "source": [
    "### How to stream responses\n",
    "このノートブックでは、チャットモデルでストリーミングを使用する方法について説明します。"
   ]
  },
  {
   "cell_type": "code",
   "execution_count": null,
   "metadata": {},
   "outputs": [],
   "source": [
    "from langchain.chat_models import AzureChatOpenAI\n",
    "from langchain.schema import (\n",
    "    HumanMessage\n",
    ")\n",
    "from langchain.callbacks.base import CallbackManager\n",
    "from langchain.callbacks.streaming_stdout import StreamingStdOutCallbackHandler\n",
    "\n",
    "chat = AzureChatOpenAI(deployment_name=AZURE_OPENAI_GPT4_DEPLOYMENT, temperature=0, openai_api_key=openai.api_key,\n",
    "                       streaming=True, callback_manager=CallbackManager([StreamingStdOutCallbackHandler()]), verbose=True)\n",
    "resp = chat([HumanMessage(content=\"Write me a song about sparkling water.\")])"
   ]
  }
 ],
 "metadata": {
  "kernelspec": {
   "display_name": "py310openai",
   "language": "python",
   "name": "python3"
  },
  "language_info": {
   "codemirror_mode": {
    "name": "ipython",
    "version": 3
   },
   "file_extension": ".py",
   "mimetype": "text/x-python",
   "name": "python",
   "nbconvert_exporter": "python",
   "pygments_lexer": "ipython3",
   "version": "3.10.9"
  },
  "orig_nbformat": 4
 },
 "nbformat": 4,
 "nbformat_minor": 2
}
