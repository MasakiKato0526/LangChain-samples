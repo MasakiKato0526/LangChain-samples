{
 "cells": [
  {
   "attachments": {},
   "cell_type": "markdown",
   "metadata": {},
   "source": [
    "# AzureOpenAI\n",
    "この Notebook は、LangChain の Models/Text Embedding Models/AzureOpenAI で紹介されているコードを以下の条件で書き換えたものになります。\n",
    "- モデルは\n",
    "    - text-embedding-ada-002 (デプロイ名：text-embedding-ada-002)\n",
    "\n",
    "以下のリンクは、オリジナルのサイトになります。こちらも参照するようにしてください。   \n",
    "https://python.langchain.com/en/latest/modules/models/text_embedding/examples/azureopenai.html"
   ]
  },
  {
   "attachments": {},
   "cell_type": "markdown",
   "metadata": {},
   "source": [
    "### Environment Setup\n",
    "必要なパラメータの値を、.env ファイルより取得します。あらかじめ.env ファイルに必要な値を設定しておいてください。"
   ]
  },
  {
   "cell_type": "code",
   "execution_count": null,
   "metadata": {},
   "outputs": [],
   "source": [
    "import os\n",
    "from dotenv import load_dotenv\n",
    "import openai\n",
    "\n",
    "# .env ファイルから環境変数を読み込む\n",
    "load_dotenv(\"../../.env\")\n",
    "\n",
    "# モデルのデプロイ名をパラメータに設定\n",
    "AZURE_OPENAI_EMBEDDING_DEPLOYMENT = os.environ.get(\"AZURE_OPENAI_EMBEDDING_DEPLOYMENT\")  # text-embedding-ada-002 のデプロイ名\n",
    "\n",
    "# OpenAI API が使用するパラメータの設定\n",
    "openai.api_type = \"azure\"\n",
    "openai.api_base = os.environ.get(\"OPENAI_API_BASE\")                            # Azure OpenAI API エンドポイント\n",
    "openai.api_version = os.environ.get(\"OPENAI_API_VERSION\")                      # Azure OpenAI API バージョン\n",
    "openai.api_key = os.environ.get(\"OPENAI_API_KEY\")                              # Azure OpenAI API キー"
   ]
  },
  {
   "cell_type": "code",
   "execution_count": null,
   "metadata": {},
   "outputs": [],
   "source": [
    "from langchain.embeddings import OpenAIEmbeddings\n",
    "\n",
    "embeddings = OpenAIEmbeddings(deployment=AZURE_OPENAI_EMBEDDING_DEPLOYMENT)"
   ]
  },
  {
   "attachments": {},
   "cell_type": "markdown",
   "metadata": {},
   "source": [
    "単体のテキストを埋め込みに変換"
   ]
  },
  {
   "cell_type": "code",
   "execution_count": null,
   "metadata": {},
   "outputs": [],
   "source": [
    "text = \"This is a test document.\"\n",
    "query_result = embeddings.embed_query(text)\n",
    "print(query_result)"
   ]
  },
  {
   "attachments": {},
   "cell_type": "markdown",
   "metadata": {},
   "source": [
    "複数のテキストを埋め込みに変換   \n",
    "> 2023年6月2日時点では1つのテキストにのみ対応しているようで、リストに複数の要素があると以下のエラーメッセージが発生します。   \n",
    "> InvalidRequestError: Too many inputs. The max number of inputs is 1.  We hope to increase the number of inputs per request soon."
   ]
  },
  {
   "cell_type": "code",
   "execution_count": null,
   "metadata": {},
   "outputs": [],
   "source": [
    "texts = [\"This is a test#1 document.\"] \n",
    "doc_result = embeddings.embed_documents(texts)\n",
    "print(doc_result)"
   ]
  }
 ],
 "metadata": {
  "kernelspec": {
   "display_name": "py310openai",
   "language": "python",
   "name": "python3"
  },
  "language_info": {
   "codemirror_mode": {
    "name": "ipython",
    "version": 3
   },
   "file_extension": ".py",
   "mimetype": "text/x-python",
   "name": "python",
   "nbconvert_exporter": "python",
   "pygments_lexer": "ipython3",
   "version": "3.10.11"
  },
  "orig_nbformat": 4
 },
 "nbformat": 4,
 "nbformat_minor": 2
}
